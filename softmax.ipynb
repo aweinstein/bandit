{
 "cells": [
  {
   "cell_type": "code",
   "execution_count": 1,
   "metadata": {
    "collapsed": true
   },
   "outputs": [],
   "source": [
    "%matplotlib inline\n",
    "import numpy as np\n",
    "import matplotlib.pyplot as plt\n",
    "from ipywidgets import interact, FloatSlider"
   ]
  },
  {
   "cell_type": "code",
   "execution_count": 2,
   "metadata": {
    "collapsed": true
   },
   "outputs": [],
   "source": [
    "def softmax(Q1, Q2, Q3, Q4, beta):\n",
    "    \"\"\"Compute softmax probabilities for all actions.\"\"\"\n",
    "    Qs = np.array((Q1, Q2, Q3, Q4))\n",
    "    num = np.exp(Qs * beta)\n",
    "    den = np.exp(Qs * beta).sum()\n",
    "    return num / den"
   ]
  },
  {
   "cell_type": "code",
   "execution_count": 3,
   "metadata": {
    "collapsed": true
   },
   "outputs": [],
   "source": [
    "def plot_softmax(Q1, Q2, Q3, Q4, beta):\n",
    "    probs = softmax(Q1, Q2, Q3, Q4, beta)\n",
    "    y_pos = np.arange(4)\n",
    "    plt.bar(y_pos, probs, align='center')\n",
    "    plt.xticks(y_pos, (r'$P_1$', r'$P_2$', r'$P_3$', r'$P_4$'))\n",
    "    plt.title('Action probabilities')\n",
    "    plt.ylim(0, 1.1)"
   ]
  },
  {
   "cell_type": "code",
   "execution_count": 4,
   "metadata": {},
   "outputs": [
    {
     "data": {
      "application/vnd.jupyter.widget-view+json": {
       "model_id": "62077d928add4a379856ec69737c9992",
       "version_major": 2,
       "version_minor": 0
      },
      "text/plain": [
       "A Jupyter Widget"
      ]
     },
     "metadata": {},
     "output_type": "display_data"
    }
   ],
   "source": [
    "Q1s = FloatSlider(min=0, max=30, step=0.1, value=10)\n",
    "Q2s = FloatSlider(min=0, max=30, step=0.1, value=11)\n",
    "Q3s = FloatSlider(min=0, max=30, step=0.1, value=9)\n",
    "Q4s = FloatSlider(min=0, max=30, step=0.1, value=12)\n",
    "betas = FloatSlider(min=0, max=4, step=0.1, value=0.5)\n",
    "interact(plot_softmax, Q1=Q1s, Q2=Q2s, Q3=Q3s, Q4=Q4s, beta=betas);"
   ]
  },
  {
   "cell_type": "code",
   "execution_count": null,
   "metadata": {
    "collapsed": true
   },
   "outputs": [],
   "source": []
  }
 ],
 "metadata": {
  "anaconda-cloud": {},
  "kernelspec": {
   "display_name": "Python [anaconda]",
   "language": "python",
   "name": "Python [anaconda]"
  },
  "language_info": {
   "codemirror_mode": {
    "name": "ipython",
    "version": 3
   },
   "file_extension": ".py",
   "mimetype": "text/x-python",
   "name": "python",
   "nbconvert_exporter": "python",
   "pygments_lexer": "ipython3",
   "version": "3.5.4"
  }
 },
 "nbformat": 4,
 "nbformat_minor": 1
}
